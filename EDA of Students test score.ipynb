{
 "cells": [
  {
   "cell_type": "markdown",
   "id": "2179e7b5",
   "metadata": {},
   "source": [
    "# EXPLANTORY DATA ANALYSIS OF STUDENTS"
   ]
  },
  {
   "cell_type": "markdown",
   "id": "a3168660",
   "metadata": {},
   "source": [
    "# Importing libariries"
   ]
  },
  {
   "cell_type": "code",
   "execution_count": 1,
   "id": "8999a920",
   "metadata": {},
   "outputs": [],
   "source": [
    "import pandas as pd\n",
    "import matplotlib.pyplot as plt\n",
    "import seaborn as sns"
   ]
  },
  {
   "cell_type": "markdown",
   "id": "49a95b5e",
   "metadata": {},
   "source": [
    "# Loading data"
   ]
  },
  {
   "cell_type": "code",
   "execution_count": 23,
   "id": "4e350f92",
   "metadata": {},
   "outputs": [],
   "source": [
    "score= \"Original_data_with_more_rows.csv\""
   ]
  },
  {
   "cell_type": "code",
   "execution_count": 24,
   "id": "c2ab27a0",
   "metadata": {},
   "outputs": [],
   "source": [
    "data = pd.read_csv(score)"
   ]
  },
  {
   "cell_type": "code",
   "execution_count": 25,
   "id": "90e904cd",
   "metadata": {},
   "outputs": [
    {
     "data": {
      "text/html": [
       "<div>\n",
       "<style scoped>\n",
       "    .dataframe tbody tr th:only-of-type {\n",
       "        vertical-align: middle;\n",
       "    }\n",
       "\n",
       "    .dataframe tbody tr th {\n",
       "        vertical-align: top;\n",
       "    }\n",
       "\n",
       "    .dataframe thead th {\n",
       "        text-align: right;\n",
       "    }\n",
       "</style>\n",
       "<table border=\"1\" class=\"dataframe\">\n",
       "  <thead>\n",
       "    <tr style=\"text-align: right;\">\n",
       "      <th></th>\n",
       "      <th>Unnamed: 0</th>\n",
       "      <th>Gender</th>\n",
       "      <th>EthnicGroup</th>\n",
       "      <th>ParentEduc</th>\n",
       "      <th>LunchType</th>\n",
       "      <th>TestPrep</th>\n",
       "      <th>MathScore</th>\n",
       "      <th>ReadingScore</th>\n",
       "      <th>WritingScore</th>\n",
       "    </tr>\n",
       "  </thead>\n",
       "  <tbody>\n",
       "    <tr>\n",
       "      <th>0</th>\n",
       "      <td>0</td>\n",
       "      <td>female</td>\n",
       "      <td>group B</td>\n",
       "      <td>bachelor's degree</td>\n",
       "      <td>standard</td>\n",
       "      <td>none</td>\n",
       "      <td>72</td>\n",
       "      <td>72</td>\n",
       "      <td>74</td>\n",
       "    </tr>\n",
       "    <tr>\n",
       "      <th>1</th>\n",
       "      <td>1</td>\n",
       "      <td>female</td>\n",
       "      <td>group C</td>\n",
       "      <td>some college</td>\n",
       "      <td>standard</td>\n",
       "      <td>completed</td>\n",
       "      <td>69</td>\n",
       "      <td>90</td>\n",
       "      <td>88</td>\n",
       "    </tr>\n",
       "    <tr>\n",
       "      <th>2</th>\n",
       "      <td>2</td>\n",
       "      <td>female</td>\n",
       "      <td>group B</td>\n",
       "      <td>master's degree</td>\n",
       "      <td>standard</td>\n",
       "      <td>none</td>\n",
       "      <td>90</td>\n",
       "      <td>95</td>\n",
       "      <td>93</td>\n",
       "    </tr>\n",
       "    <tr>\n",
       "      <th>3</th>\n",
       "      <td>3</td>\n",
       "      <td>male</td>\n",
       "      <td>group A</td>\n",
       "      <td>associate's degree</td>\n",
       "      <td>free/reduced</td>\n",
       "      <td>none</td>\n",
       "      <td>47</td>\n",
       "      <td>57</td>\n",
       "      <td>44</td>\n",
       "    </tr>\n",
       "    <tr>\n",
       "      <th>4</th>\n",
       "      <td>4</td>\n",
       "      <td>male</td>\n",
       "      <td>group C</td>\n",
       "      <td>some college</td>\n",
       "      <td>standard</td>\n",
       "      <td>none</td>\n",
       "      <td>76</td>\n",
       "      <td>78</td>\n",
       "      <td>75</td>\n",
       "    </tr>\n",
       "    <tr>\n",
       "      <th>...</th>\n",
       "      <td>...</td>\n",
       "      <td>...</td>\n",
       "      <td>...</td>\n",
       "      <td>...</td>\n",
       "      <td>...</td>\n",
       "      <td>...</td>\n",
       "      <td>...</td>\n",
       "      <td>...</td>\n",
       "      <td>...</td>\n",
       "    </tr>\n",
       "    <tr>\n",
       "      <th>30636</th>\n",
       "      <td>995</td>\n",
       "      <td>male</td>\n",
       "      <td>group C</td>\n",
       "      <td>some high school</td>\n",
       "      <td>standard</td>\n",
       "      <td>none</td>\n",
       "      <td>56</td>\n",
       "      <td>47</td>\n",
       "      <td>51</td>\n",
       "    </tr>\n",
       "    <tr>\n",
       "      <th>30637</th>\n",
       "      <td>996</td>\n",
       "      <td>male</td>\n",
       "      <td>group E</td>\n",
       "      <td>associate's degree</td>\n",
       "      <td>free/reduced</td>\n",
       "      <td>none</td>\n",
       "      <td>74</td>\n",
       "      <td>75</td>\n",
       "      <td>72</td>\n",
       "    </tr>\n",
       "    <tr>\n",
       "      <th>30638</th>\n",
       "      <td>997</td>\n",
       "      <td>male</td>\n",
       "      <td>group C</td>\n",
       "      <td>some college</td>\n",
       "      <td>standard</td>\n",
       "      <td>none</td>\n",
       "      <td>36</td>\n",
       "      <td>29</td>\n",
       "      <td>27</td>\n",
       "    </tr>\n",
       "    <tr>\n",
       "      <th>30639</th>\n",
       "      <td>998</td>\n",
       "      <td>male</td>\n",
       "      <td>group A</td>\n",
       "      <td>some high school</td>\n",
       "      <td>free/reduced</td>\n",
       "      <td>completed</td>\n",
       "      <td>43</td>\n",
       "      <td>34</td>\n",
       "      <td>39</td>\n",
       "    </tr>\n",
       "    <tr>\n",
       "      <th>30640</th>\n",
       "      <td>999</td>\n",
       "      <td>female</td>\n",
       "      <td>group D</td>\n",
       "      <td>associate's degree</td>\n",
       "      <td>standard</td>\n",
       "      <td>none</td>\n",
       "      <td>52</td>\n",
       "      <td>68</td>\n",
       "      <td>66</td>\n",
       "    </tr>\n",
       "  </tbody>\n",
       "</table>\n",
       "<p>30641 rows × 9 columns</p>\n",
       "</div>"
      ],
      "text/plain": [
       "       Unnamed: 0  Gender EthnicGroup          ParentEduc     LunchType  \\\n",
       "0               0  female     group B   bachelor's degree      standard   \n",
       "1               1  female     group C        some college      standard   \n",
       "2               2  female     group B     master's degree      standard   \n",
       "3               3    male     group A  associate's degree  free/reduced   \n",
       "4               4    male     group C        some college      standard   \n",
       "...           ...     ...         ...                 ...           ...   \n",
       "30636         995    male     group C    some high school      standard   \n",
       "30637         996    male     group E  associate's degree  free/reduced   \n",
       "30638         997    male     group C        some college      standard   \n",
       "30639         998    male     group A    some high school  free/reduced   \n",
       "30640         999  female     group D  associate's degree      standard   \n",
       "\n",
       "        TestPrep  MathScore  ReadingScore  WritingScore  \n",
       "0           none         72            72            74  \n",
       "1      completed         69            90            88  \n",
       "2           none         90            95            93  \n",
       "3           none         47            57            44  \n",
       "4           none         76            78            75  \n",
       "...          ...        ...           ...           ...  \n",
       "30636       none         56            47            51  \n",
       "30637       none         74            75            72  \n",
       "30638       none         36            29            27  \n",
       "30639  completed         43            34            39  \n",
       "30640       none         52            68            66  \n",
       "\n",
       "[30641 rows x 9 columns]"
      ]
     },
     "execution_count": 25,
     "metadata": {},
     "output_type": "execute_result"
    }
   ],
   "source": [
    "data"
   ]
  },
  {
   "cell_type": "code",
   "execution_count": 3,
   "id": "0b47acb9",
   "metadata": {},
   "outputs": [],
   "source": [
    "df= \"Expanded_data_with_more_features.csv\"\n",
    "data = pd.read_csv(df)"
   ]
  },
  {
   "cell_type": "code",
   "execution_count": 27,
   "id": "3f7b17ee",
   "metadata": {},
   "outputs": [
    {
     "data": {
      "text/html": [
       "<div>\n",
       "<style scoped>\n",
       "    .dataframe tbody tr th:only-of-type {\n",
       "        vertical-align: middle;\n",
       "    }\n",
       "\n",
       "    .dataframe tbody tr th {\n",
       "        vertical-align: top;\n",
       "    }\n",
       "\n",
       "    .dataframe thead th {\n",
       "        text-align: right;\n",
       "    }\n",
       "</style>\n",
       "<table border=\"1\" class=\"dataframe\">\n",
       "  <thead>\n",
       "    <tr style=\"text-align: right;\">\n",
       "      <th></th>\n",
       "      <th>Unnamed: 0</th>\n",
       "      <th>Gender</th>\n",
       "      <th>EthnicGroup</th>\n",
       "      <th>ParentEduc</th>\n",
       "      <th>LunchType</th>\n",
       "      <th>TestPrep</th>\n",
       "      <th>ParentMaritalStatus</th>\n",
       "      <th>PracticeSport</th>\n",
       "      <th>IsFirstChild</th>\n",
       "      <th>NrSiblings</th>\n",
       "      <th>TransportMeans</th>\n",
       "      <th>WklyStudyHours</th>\n",
       "      <th>MathScore</th>\n",
       "      <th>ReadingScore</th>\n",
       "      <th>WritingScore</th>\n",
       "    </tr>\n",
       "  </thead>\n",
       "  <tbody>\n",
       "    <tr>\n",
       "      <th>0</th>\n",
       "      <td>0</td>\n",
       "      <td>female</td>\n",
       "      <td>NaN</td>\n",
       "      <td>bachelor's degree</td>\n",
       "      <td>standard</td>\n",
       "      <td>none</td>\n",
       "      <td>married</td>\n",
       "      <td>regularly</td>\n",
       "      <td>yes</td>\n",
       "      <td>3.0</td>\n",
       "      <td>school_bus</td>\n",
       "      <td>&lt; 5</td>\n",
       "      <td>71</td>\n",
       "      <td>71</td>\n",
       "      <td>74</td>\n",
       "    </tr>\n",
       "    <tr>\n",
       "      <th>1</th>\n",
       "      <td>1</td>\n",
       "      <td>female</td>\n",
       "      <td>group C</td>\n",
       "      <td>some college</td>\n",
       "      <td>standard</td>\n",
       "      <td>NaN</td>\n",
       "      <td>married</td>\n",
       "      <td>sometimes</td>\n",
       "      <td>yes</td>\n",
       "      <td>0.0</td>\n",
       "      <td>NaN</td>\n",
       "      <td>05-Oct</td>\n",
       "      <td>69</td>\n",
       "      <td>90</td>\n",
       "      <td>88</td>\n",
       "    </tr>\n",
       "    <tr>\n",
       "      <th>2</th>\n",
       "      <td>2</td>\n",
       "      <td>female</td>\n",
       "      <td>group B</td>\n",
       "      <td>master's degree</td>\n",
       "      <td>standard</td>\n",
       "      <td>none</td>\n",
       "      <td>single</td>\n",
       "      <td>sometimes</td>\n",
       "      <td>yes</td>\n",
       "      <td>4.0</td>\n",
       "      <td>school_bus</td>\n",
       "      <td>&lt; 5</td>\n",
       "      <td>87</td>\n",
       "      <td>93</td>\n",
       "      <td>91</td>\n",
       "    </tr>\n",
       "    <tr>\n",
       "      <th>3</th>\n",
       "      <td>3</td>\n",
       "      <td>male</td>\n",
       "      <td>group A</td>\n",
       "      <td>associate's degree</td>\n",
       "      <td>free/reduced</td>\n",
       "      <td>none</td>\n",
       "      <td>married</td>\n",
       "      <td>never</td>\n",
       "      <td>no</td>\n",
       "      <td>1.0</td>\n",
       "      <td>NaN</td>\n",
       "      <td>05-Oct</td>\n",
       "      <td>45</td>\n",
       "      <td>56</td>\n",
       "      <td>42</td>\n",
       "    </tr>\n",
       "    <tr>\n",
       "      <th>4</th>\n",
       "      <td>4</td>\n",
       "      <td>male</td>\n",
       "      <td>group C</td>\n",
       "      <td>some college</td>\n",
       "      <td>standard</td>\n",
       "      <td>none</td>\n",
       "      <td>married</td>\n",
       "      <td>sometimes</td>\n",
       "      <td>yes</td>\n",
       "      <td>0.0</td>\n",
       "      <td>school_bus</td>\n",
       "      <td>05-Oct</td>\n",
       "      <td>76</td>\n",
       "      <td>78</td>\n",
       "      <td>75</td>\n",
       "    </tr>\n",
       "  </tbody>\n",
       "</table>\n",
       "</div>"
      ],
      "text/plain": [
       "   Unnamed: 0  Gender EthnicGroup          ParentEduc     LunchType TestPrep  \\\n",
       "0           0  female         NaN   bachelor's degree      standard     none   \n",
       "1           1  female     group C        some college      standard      NaN   \n",
       "2           2  female     group B     master's degree      standard     none   \n",
       "3           3    male     group A  associate's degree  free/reduced     none   \n",
       "4           4    male     group C        some college      standard     none   \n",
       "\n",
       "  ParentMaritalStatus PracticeSport IsFirstChild  NrSiblings TransportMeans  \\\n",
       "0             married     regularly          yes         3.0     school_bus   \n",
       "1             married     sometimes          yes         0.0            NaN   \n",
       "2              single     sometimes          yes         4.0     school_bus   \n",
       "3             married         never           no         1.0            NaN   \n",
       "4             married     sometimes          yes         0.0     school_bus   \n",
       "\n",
       "  WklyStudyHours  MathScore  ReadingScore  WritingScore  \n",
       "0            < 5         71            71            74  \n",
       "1         05-Oct         69            90            88  \n",
       "2            < 5         87            93            91  \n",
       "3         05-Oct         45            56            42  \n",
       "4         05-Oct         76            78            75  "
      ]
     },
     "execution_count": 27,
     "metadata": {},
     "output_type": "execute_result"
    }
   ],
   "source": [
    "data.head()"
   ]
  },
  {
   "cell_type": "markdown",
   "id": "be20d0d1",
   "metadata": {},
   "source": [
    "# Data Manipulation"
   ]
  },
  {
   "cell_type": "code",
   "execution_count": 28,
   "id": "a3e28b6d",
   "metadata": {},
   "outputs": [
    {
     "name": "stdout",
     "output_type": "stream",
     "text": [
      "<class 'pandas.core.frame.DataFrame'>\n",
      "RangeIndex: 30641 entries, 0 to 30640\n",
      "Data columns (total 15 columns):\n",
      " #   Column               Non-Null Count  Dtype  \n",
      "---  ------               --------------  -----  \n",
      " 0   Unnamed: 0           30641 non-null  int64  \n",
      " 1   Gender               30641 non-null  object \n",
      " 2   EthnicGroup          28801 non-null  object \n",
      " 3   ParentEduc           28796 non-null  object \n",
      " 4   LunchType            30641 non-null  object \n",
      " 5   TestPrep             28811 non-null  object \n",
      " 6   ParentMaritalStatus  29451 non-null  object \n",
      " 7   PracticeSport        30010 non-null  object \n",
      " 8   IsFirstChild         29737 non-null  object \n",
      " 9   NrSiblings           29069 non-null  float64\n",
      " 10  TransportMeans       27507 non-null  object \n",
      " 11  WklyStudyHours       29686 non-null  object \n",
      " 12  MathScore            30641 non-null  int64  \n",
      " 13  ReadingScore         30641 non-null  int64  \n",
      " 14  WritingScore         30641 non-null  int64  \n",
      "dtypes: float64(1), int64(4), object(10)\n",
      "memory usage: 3.5+ MB\n"
     ]
    }
   ],
   "source": [
    "data.info()"
   ]
  },
  {
   "cell_type": "code",
   "execution_count": 29,
   "id": "a0fef81b",
   "metadata": {},
   "outputs": [],
   "source": [
    "data=data.drop('Unnamed: 0', axis = 1)"
   ]
  },
  {
   "cell_type": "code",
   "execution_count": 30,
   "id": "e44056ad",
   "metadata": {},
   "outputs": [
    {
     "data": {
      "text/html": [
       "<div>\n",
       "<style scoped>\n",
       "    .dataframe tbody tr th:only-of-type {\n",
       "        vertical-align: middle;\n",
       "    }\n",
       "\n",
       "    .dataframe tbody tr th {\n",
       "        vertical-align: top;\n",
       "    }\n",
       "\n",
       "    .dataframe thead th {\n",
       "        text-align: right;\n",
       "    }\n",
       "</style>\n",
       "<table border=\"1\" class=\"dataframe\">\n",
       "  <thead>\n",
       "    <tr style=\"text-align: right;\">\n",
       "      <th></th>\n",
       "      <th>NrSiblings</th>\n",
       "      <th>MathScore</th>\n",
       "      <th>ReadingScore</th>\n",
       "      <th>WritingScore</th>\n",
       "    </tr>\n",
       "  </thead>\n",
       "  <tbody>\n",
       "    <tr>\n",
       "      <th>count</th>\n",
       "      <td>29069.000000</td>\n",
       "      <td>30641.000000</td>\n",
       "      <td>30641.000000</td>\n",
       "      <td>30641.000000</td>\n",
       "    </tr>\n",
       "    <tr>\n",
       "      <th>mean</th>\n",
       "      <td>2.145894</td>\n",
       "      <td>66.558402</td>\n",
       "      <td>69.377533</td>\n",
       "      <td>68.418622</td>\n",
       "    </tr>\n",
       "    <tr>\n",
       "      <th>std</th>\n",
       "      <td>1.458242</td>\n",
       "      <td>15.361616</td>\n",
       "      <td>14.758952</td>\n",
       "      <td>15.443525</td>\n",
       "    </tr>\n",
       "    <tr>\n",
       "      <th>min</th>\n",
       "      <td>0.000000</td>\n",
       "      <td>0.000000</td>\n",
       "      <td>10.000000</td>\n",
       "      <td>4.000000</td>\n",
       "    </tr>\n",
       "    <tr>\n",
       "      <th>25%</th>\n",
       "      <td>1.000000</td>\n",
       "      <td>56.000000</td>\n",
       "      <td>59.000000</td>\n",
       "      <td>58.000000</td>\n",
       "    </tr>\n",
       "    <tr>\n",
       "      <th>50%</th>\n",
       "      <td>2.000000</td>\n",
       "      <td>67.000000</td>\n",
       "      <td>70.000000</td>\n",
       "      <td>69.000000</td>\n",
       "    </tr>\n",
       "    <tr>\n",
       "      <th>75%</th>\n",
       "      <td>3.000000</td>\n",
       "      <td>78.000000</td>\n",
       "      <td>80.000000</td>\n",
       "      <td>79.000000</td>\n",
       "    </tr>\n",
       "    <tr>\n",
       "      <th>max</th>\n",
       "      <td>7.000000</td>\n",
       "      <td>100.000000</td>\n",
       "      <td>100.000000</td>\n",
       "      <td>100.000000</td>\n",
       "    </tr>\n",
       "  </tbody>\n",
       "</table>\n",
       "</div>"
      ],
      "text/plain": [
       "         NrSiblings     MathScore  ReadingScore  WritingScore\n",
       "count  29069.000000  30641.000000  30641.000000  30641.000000\n",
       "mean       2.145894     66.558402     69.377533     68.418622\n",
       "std        1.458242     15.361616     14.758952     15.443525\n",
       "min        0.000000      0.000000     10.000000      4.000000\n",
       "25%        1.000000     56.000000     59.000000     58.000000\n",
       "50%        2.000000     67.000000     70.000000     69.000000\n",
       "75%        3.000000     78.000000     80.000000     79.000000\n",
       "max        7.000000    100.000000    100.000000    100.000000"
      ]
     },
     "execution_count": 30,
     "metadata": {},
     "output_type": "execute_result"
    }
   ],
   "source": [
    "data.describe()"
   ]
  },
  {
   "cell_type": "code",
   "execution_count": 31,
   "id": "43ad1c6e",
   "metadata": {},
   "outputs": [
    {
     "data": {
      "text/plain": [
       "Gender                    0\n",
       "EthnicGroup            1840\n",
       "ParentEduc             1845\n",
       "LunchType                 0\n",
       "TestPrep               1830\n",
       "ParentMaritalStatus    1190\n",
       "PracticeSport           631\n",
       "IsFirstChild            904\n",
       "NrSiblings             1572\n",
       "TransportMeans         3134\n",
       "WklyStudyHours          955\n",
       "MathScore                 0\n",
       "ReadingScore              0\n",
       "WritingScore              0\n",
       "dtype: int64"
      ]
     },
     "execution_count": 31,
     "metadata": {},
     "output_type": "execute_result"
    }
   ],
   "source": [
    "data.isnull().sum()"
   ]
  },
  {
   "cell_type": "code",
   "execution_count": 32,
   "id": "9a3a9693",
   "metadata": {},
   "outputs": [
    {
     "data": {
      "text/html": [
       "<div>\n",
       "<style scoped>\n",
       "    .dataframe tbody tr th:only-of-type {\n",
       "        vertical-align: middle;\n",
       "    }\n",
       "\n",
       "    .dataframe tbody tr th {\n",
       "        vertical-align: top;\n",
       "    }\n",
       "\n",
       "    .dataframe thead th {\n",
       "        text-align: right;\n",
       "    }\n",
       "</style>\n",
       "<table border=\"1\" class=\"dataframe\">\n",
       "  <thead>\n",
       "    <tr style=\"text-align: right;\">\n",
       "      <th></th>\n",
       "      <th>Gender</th>\n",
       "      <th>EthnicGroup</th>\n",
       "      <th>ParentEduc</th>\n",
       "      <th>LunchType</th>\n",
       "      <th>TestPrep</th>\n",
       "      <th>ParentMaritalStatus</th>\n",
       "      <th>PracticeSport</th>\n",
       "      <th>IsFirstChild</th>\n",
       "      <th>NrSiblings</th>\n",
       "      <th>TransportMeans</th>\n",
       "      <th>WklyStudyHours</th>\n",
       "      <th>MathScore</th>\n",
       "      <th>ReadingScore</th>\n",
       "      <th>WritingScore</th>\n",
       "    </tr>\n",
       "  </thead>\n",
       "  <tbody>\n",
       "    <tr>\n",
       "      <th>2</th>\n",
       "      <td>female</td>\n",
       "      <td>group B</td>\n",
       "      <td>master's degree</td>\n",
       "      <td>standard</td>\n",
       "      <td>none</td>\n",
       "      <td>single</td>\n",
       "      <td>sometimes</td>\n",
       "      <td>yes</td>\n",
       "      <td>4.0</td>\n",
       "      <td>school_bus</td>\n",
       "      <td>&lt; 5</td>\n",
       "      <td>87</td>\n",
       "      <td>93</td>\n",
       "      <td>91</td>\n",
       "    </tr>\n",
       "    <tr>\n",
       "      <th>4</th>\n",
       "      <td>male</td>\n",
       "      <td>group C</td>\n",
       "      <td>some college</td>\n",
       "      <td>standard</td>\n",
       "      <td>none</td>\n",
       "      <td>married</td>\n",
       "      <td>sometimes</td>\n",
       "      <td>yes</td>\n",
       "      <td>0.0</td>\n",
       "      <td>school_bus</td>\n",
       "      <td>05-Oct</td>\n",
       "      <td>76</td>\n",
       "      <td>78</td>\n",
       "      <td>75</td>\n",
       "    </tr>\n",
       "    <tr>\n",
       "      <th>5</th>\n",
       "      <td>female</td>\n",
       "      <td>group B</td>\n",
       "      <td>associate's degree</td>\n",
       "      <td>standard</td>\n",
       "      <td>none</td>\n",
       "      <td>married</td>\n",
       "      <td>regularly</td>\n",
       "      <td>yes</td>\n",
       "      <td>1.0</td>\n",
       "      <td>school_bus</td>\n",
       "      <td>05-Oct</td>\n",
       "      <td>73</td>\n",
       "      <td>84</td>\n",
       "      <td>79</td>\n",
       "    </tr>\n",
       "    <tr>\n",
       "      <th>6</th>\n",
       "      <td>female</td>\n",
       "      <td>group B</td>\n",
       "      <td>some college</td>\n",
       "      <td>standard</td>\n",
       "      <td>completed</td>\n",
       "      <td>widowed</td>\n",
       "      <td>never</td>\n",
       "      <td>no</td>\n",
       "      <td>1.0</td>\n",
       "      <td>private</td>\n",
       "      <td>05-Oct</td>\n",
       "      <td>85</td>\n",
       "      <td>93</td>\n",
       "      <td>89</td>\n",
       "    </tr>\n",
       "    <tr>\n",
       "      <th>7</th>\n",
       "      <td>male</td>\n",
       "      <td>group B</td>\n",
       "      <td>some college</td>\n",
       "      <td>free/reduced</td>\n",
       "      <td>none</td>\n",
       "      <td>married</td>\n",
       "      <td>sometimes</td>\n",
       "      <td>yes</td>\n",
       "      <td>1.0</td>\n",
       "      <td>private</td>\n",
       "      <td>&gt; 10</td>\n",
       "      <td>41</td>\n",
       "      <td>43</td>\n",
       "      <td>39</td>\n",
       "    </tr>\n",
       "    <tr>\n",
       "      <th>...</th>\n",
       "      <td>...</td>\n",
       "      <td>...</td>\n",
       "      <td>...</td>\n",
       "      <td>...</td>\n",
       "      <td>...</td>\n",
       "      <td>...</td>\n",
       "      <td>...</td>\n",
       "      <td>...</td>\n",
       "      <td>...</td>\n",
       "      <td>...</td>\n",
       "      <td>...</td>\n",
       "      <td>...</td>\n",
       "      <td>...</td>\n",
       "      <td>...</td>\n",
       "    </tr>\n",
       "    <tr>\n",
       "      <th>30635</th>\n",
       "      <td>male</td>\n",
       "      <td>group C</td>\n",
       "      <td>some college</td>\n",
       "      <td>standard</td>\n",
       "      <td>none</td>\n",
       "      <td>married</td>\n",
       "      <td>regularly</td>\n",
       "      <td>no</td>\n",
       "      <td>2.0</td>\n",
       "      <td>school_bus</td>\n",
       "      <td>05-Oct</td>\n",
       "      <td>58</td>\n",
       "      <td>53</td>\n",
       "      <td>49</td>\n",
       "    </tr>\n",
       "    <tr>\n",
       "      <th>30636</th>\n",
       "      <td>female</td>\n",
       "      <td>group D</td>\n",
       "      <td>high school</td>\n",
       "      <td>standard</td>\n",
       "      <td>none</td>\n",
       "      <td>single</td>\n",
       "      <td>sometimes</td>\n",
       "      <td>no</td>\n",
       "      <td>2.0</td>\n",
       "      <td>school_bus</td>\n",
       "      <td>05-Oct</td>\n",
       "      <td>59</td>\n",
       "      <td>61</td>\n",
       "      <td>65</td>\n",
       "    </tr>\n",
       "    <tr>\n",
       "      <th>30637</th>\n",
       "      <td>male</td>\n",
       "      <td>group E</td>\n",
       "      <td>high school</td>\n",
       "      <td>standard</td>\n",
       "      <td>none</td>\n",
       "      <td>single</td>\n",
       "      <td>regularly</td>\n",
       "      <td>no</td>\n",
       "      <td>1.0</td>\n",
       "      <td>private</td>\n",
       "      <td>05-Oct</td>\n",
       "      <td>58</td>\n",
       "      <td>53</td>\n",
       "      <td>51</td>\n",
       "    </tr>\n",
       "    <tr>\n",
       "      <th>30639</th>\n",
       "      <td>female</td>\n",
       "      <td>group D</td>\n",
       "      <td>associate's degree</td>\n",
       "      <td>standard</td>\n",
       "      <td>completed</td>\n",
       "      <td>married</td>\n",
       "      <td>regularly</td>\n",
       "      <td>no</td>\n",
       "      <td>3.0</td>\n",
       "      <td>school_bus</td>\n",
       "      <td>05-Oct</td>\n",
       "      <td>82</td>\n",
       "      <td>90</td>\n",
       "      <td>93</td>\n",
       "    </tr>\n",
       "    <tr>\n",
       "      <th>30640</th>\n",
       "      <td>male</td>\n",
       "      <td>group B</td>\n",
       "      <td>some college</td>\n",
       "      <td>standard</td>\n",
       "      <td>none</td>\n",
       "      <td>married</td>\n",
       "      <td>never</td>\n",
       "      <td>no</td>\n",
       "      <td>1.0</td>\n",
       "      <td>school_bus</td>\n",
       "      <td>05-Oct</td>\n",
       "      <td>64</td>\n",
       "      <td>60</td>\n",
       "      <td>58</td>\n",
       "    </tr>\n",
       "  </tbody>\n",
       "</table>\n",
       "<p>19243 rows × 14 columns</p>\n",
       "</div>"
      ],
      "text/plain": [
       "       Gender EthnicGroup          ParentEduc     LunchType   TestPrep  \\\n",
       "2      female     group B     master's degree      standard       none   \n",
       "4        male     group C        some college      standard       none   \n",
       "5      female     group B  associate's degree      standard       none   \n",
       "6      female     group B        some college      standard  completed   \n",
       "7        male     group B        some college  free/reduced       none   \n",
       "...       ...         ...                 ...           ...        ...   \n",
       "30635    male     group C        some college      standard       none   \n",
       "30636  female     group D         high school      standard       none   \n",
       "30637    male     group E         high school      standard       none   \n",
       "30639  female     group D  associate's degree      standard  completed   \n",
       "30640    male     group B        some college      standard       none   \n",
       "\n",
       "      ParentMaritalStatus PracticeSport IsFirstChild  NrSiblings  \\\n",
       "2                  single     sometimes          yes         4.0   \n",
       "4                 married     sometimes          yes         0.0   \n",
       "5                 married     regularly          yes         1.0   \n",
       "6                 widowed         never           no         1.0   \n",
       "7                 married     sometimes          yes         1.0   \n",
       "...                   ...           ...          ...         ...   \n",
       "30635             married     regularly           no         2.0   \n",
       "30636              single     sometimes           no         2.0   \n",
       "30637              single     regularly           no         1.0   \n",
       "30639             married     regularly           no         3.0   \n",
       "30640             married         never           no         1.0   \n",
       "\n",
       "      TransportMeans WklyStudyHours  MathScore  ReadingScore  WritingScore  \n",
       "2         school_bus            < 5         87            93            91  \n",
       "4         school_bus         05-Oct         76            78            75  \n",
       "5         school_bus         05-Oct         73            84            79  \n",
       "6            private         05-Oct         85            93            89  \n",
       "7            private           > 10         41            43            39  \n",
       "...              ...            ...        ...           ...           ...  \n",
       "30635     school_bus         05-Oct         58            53            49  \n",
       "30636     school_bus         05-Oct         59            61            65  \n",
       "30637        private         05-Oct         58            53            51  \n",
       "30639     school_bus         05-Oct         82            90            93  \n",
       "30640     school_bus         05-Oct         64            60            58  \n",
       "\n",
       "[19243 rows x 14 columns]"
      ]
     },
     "execution_count": 32,
     "metadata": {},
     "output_type": "execute_result"
    }
   ],
   "source": [
    "data.dropna()"
   ]
  },
  {
   "cell_type": "code",
   "execution_count": 44,
   "id": "5bf1e524",
   "metadata": {},
   "outputs": [],
   "source": [
    "data[\"WklyStudyHours\"]=data[\"WklyStudyHours\"].str.replace(\"05-Oct\" , \"05-10\")"
   ]
  },
  {
   "cell_type": "markdown",
   "id": "82752093",
   "metadata": {},
   "source": [
    "# Statistical Analysis"
   ]
  },
  {
   "cell_type": "markdown",
   "id": "f0f9dafe",
   "metadata": {},
   "source": [
    "- In this dataset we found that minimum marks of students in math test is 0 \n",
    "- whereas the lowest marks in writing and reading is 10 and 04 respectively"
   ]
  },
  {
   "cell_type": "code",
   "execution_count": 51,
   "id": "e9b08f3f",
   "metadata": {},
   "outputs": [
    {
     "data": {
      "text/html": [
       "<div>\n",
       "<style scoped>\n",
       "    .dataframe tbody tr th:only-of-type {\n",
       "        vertical-align: middle;\n",
       "    }\n",
       "\n",
       "    .dataframe tbody tr th {\n",
       "        vertical-align: top;\n",
       "    }\n",
       "\n",
       "    .dataframe thead th {\n",
       "        text-align: right;\n",
       "    }\n",
       "</style>\n",
       "<table border=\"1\" class=\"dataframe\">\n",
       "  <thead>\n",
       "    <tr style=\"text-align: right;\">\n",
       "      <th></th>\n",
       "      <th>NrSiblings</th>\n",
       "      <th>MathScore</th>\n",
       "      <th>ReadingScore</th>\n",
       "      <th>WritingScore</th>\n",
       "    </tr>\n",
       "  </thead>\n",
       "  <tbody>\n",
       "    <tr>\n",
       "      <th>count</th>\n",
       "      <td>29069.000000</td>\n",
       "      <td>30641.000000</td>\n",
       "      <td>30641.000000</td>\n",
       "      <td>30641.000000</td>\n",
       "    </tr>\n",
       "    <tr>\n",
       "      <th>mean</th>\n",
       "      <td>2.145894</td>\n",
       "      <td>66.558402</td>\n",
       "      <td>69.377533</td>\n",
       "      <td>68.418622</td>\n",
       "    </tr>\n",
       "    <tr>\n",
       "      <th>std</th>\n",
       "      <td>1.458242</td>\n",
       "      <td>15.361616</td>\n",
       "      <td>14.758952</td>\n",
       "      <td>15.443525</td>\n",
       "    </tr>\n",
       "    <tr>\n",
       "      <th>min</th>\n",
       "      <td>0.000000</td>\n",
       "      <td>0.000000</td>\n",
       "      <td>10.000000</td>\n",
       "      <td>4.000000</td>\n",
       "    </tr>\n",
       "    <tr>\n",
       "      <th>25%</th>\n",
       "      <td>1.000000</td>\n",
       "      <td>56.000000</td>\n",
       "      <td>59.000000</td>\n",
       "      <td>58.000000</td>\n",
       "    </tr>\n",
       "    <tr>\n",
       "      <th>50%</th>\n",
       "      <td>2.000000</td>\n",
       "      <td>67.000000</td>\n",
       "      <td>70.000000</td>\n",
       "      <td>69.000000</td>\n",
       "    </tr>\n",
       "    <tr>\n",
       "      <th>75%</th>\n",
       "      <td>3.000000</td>\n",
       "      <td>78.000000</td>\n",
       "      <td>80.000000</td>\n",
       "      <td>79.000000</td>\n",
       "    </tr>\n",
       "    <tr>\n",
       "      <th>max</th>\n",
       "      <td>7.000000</td>\n",
       "      <td>100.000000</td>\n",
       "      <td>100.000000</td>\n",
       "      <td>100.000000</td>\n",
       "    </tr>\n",
       "  </tbody>\n",
       "</table>\n",
       "</div>"
      ],
      "text/plain": [
       "         NrSiblings     MathScore  ReadingScore  WritingScore\n",
       "count  29069.000000  30641.000000  30641.000000  30641.000000\n",
       "mean       2.145894     66.558402     69.377533     68.418622\n",
       "std        1.458242     15.361616     14.758952     15.443525\n",
       "min        0.000000      0.000000     10.000000      4.000000\n",
       "25%        1.000000     56.000000     59.000000     58.000000\n",
       "50%        2.000000     67.000000     70.000000     69.000000\n",
       "75%        3.000000     78.000000     80.000000     79.000000\n",
       "max        7.000000    100.000000    100.000000    100.000000"
      ]
     },
     "execution_count": 51,
     "metadata": {},
     "output_type": "execute_result"
    }
   ],
   "source": [
    "data.describe()"
   ]
  },
  {
   "cell_type": "code",
   "execution_count": 55,
   "id": "8cef0b8a",
   "metadata": {},
   "outputs": [
    {
     "data": {
      "text/html": [
       "<div>\n",
       "<style scoped>\n",
       "    .dataframe tbody tr th:only-of-type {\n",
       "        vertical-align: middle;\n",
       "    }\n",
       "\n",
       "    .dataframe tbody tr th {\n",
       "        vertical-align: top;\n",
       "    }\n",
       "\n",
       "    .dataframe thead th {\n",
       "        text-align: right;\n",
       "    }\n",
       "</style>\n",
       "<table border=\"1\" class=\"dataframe\">\n",
       "  <thead>\n",
       "    <tr style=\"text-align: right;\">\n",
       "      <th></th>\n",
       "      <th>NrSiblings</th>\n",
       "      <th>MathScore</th>\n",
       "      <th>ReadingScore</th>\n",
       "      <th>WritingScore</th>\n",
       "    </tr>\n",
       "  </thead>\n",
       "  <tbody>\n",
       "    <tr>\n",
       "      <th>NrSiblings</th>\n",
       "      <td>1.000000</td>\n",
       "      <td>-0.001195</td>\n",
       "      <td>-0.000874</td>\n",
       "      <td>-0.002554</td>\n",
       "    </tr>\n",
       "    <tr>\n",
       "      <th>MathScore</th>\n",
       "      <td>-0.001195</td>\n",
       "      <td>1.000000</td>\n",
       "      <td>0.817825</td>\n",
       "      <td>0.807118</td>\n",
       "    </tr>\n",
       "    <tr>\n",
       "      <th>ReadingScore</th>\n",
       "      <td>-0.000874</td>\n",
       "      <td>0.817825</td>\n",
       "      <td>1.000000</td>\n",
       "      <td>0.952584</td>\n",
       "    </tr>\n",
       "    <tr>\n",
       "      <th>WritingScore</th>\n",
       "      <td>-0.002554</td>\n",
       "      <td>0.807118</td>\n",
       "      <td>0.952584</td>\n",
       "      <td>1.000000</td>\n",
       "    </tr>\n",
       "  </tbody>\n",
       "</table>\n",
       "</div>"
      ],
      "text/plain": [
       "              NrSiblings  MathScore  ReadingScore  WritingScore\n",
       "NrSiblings      1.000000  -0.001195     -0.000874     -0.002554\n",
       "MathScore      -0.001195   1.000000      0.817825      0.807118\n",
       "ReadingScore   -0.000874   0.817825      1.000000      0.952584\n",
       "WritingScore   -0.002554   0.807118      0.952584      1.000000"
      ]
     },
     "execution_count": 55,
     "metadata": {},
     "output_type": "execute_result"
    }
   ],
   "source": [
    "data.corr()"
   ]
  },
  {
   "cell_type": "code",
   "execution_count": 34,
   "id": "c50c47eb",
   "metadata": {},
   "outputs": [
    {
     "name": "stdout",
     "output_type": "stream",
     "text": [
      "MINIMUM SCORE IN MATHS TEST IS : 0\n"
     ]
    }
   ],
   "source": [
    "min = data[\"MathScore\"].min()\n",
    "com = \"MINIMUM SCORE IN MATHS TEST IS : {}\"\n",
    "print(com.format(min))"
   ]
  },
  {
   "cell_type": "code",
   "execution_count": 131,
   "id": "8f80f756",
   "metadata": {},
   "outputs": [
    {
     "name": "stdout",
     "output_type": "stream",
     "text": [
      "MINIMUM SCORE IN READING IS : 10\n"
     ]
    }
   ],
   "source": [
    "min = data[\"ReadingScore\"].min()\n",
    "com = \"MINIMUM SCORE IN READING IS : {}\"\n",
    "print(com.format(min))"
   ]
  },
  {
   "cell_type": "code",
   "execution_count": 56,
   "id": "f0768745",
   "metadata": {},
   "outputs": [
    {
     "name": "stdout",
     "output_type": "stream",
     "text": [
      "MINIMUM SCORE IN WRITTEN TEST IS : 4\n"
     ]
    }
   ],
   "source": [
    "min = data[\"WritingScore\"].min()\n",
    "com = \"MINIMUM SCORE IN TEST IS : {}\"\n",
    "print(com.format(min))"
   ]
  },
  {
   "cell_type": "markdown",
   "id": "84acb9a8",
   "metadata": {},
   "source": [
    "## Is parent education effect students study?"
   ]
  },
  {
   "cell_type": "markdown",
   "id": "b0af58f0",
   "metadata": {},
   "source": [
    "- Most of the parents got their studies from some college while very few of them are masters degree holder.\n",
    "- Students whose parents hold masters degree have high score.\n",
    "- This analysis shows that parents education positively impact students performance"
   ]
  },
  {
   "cell_type": "code",
   "execution_count": 57,
   "id": "81286bf0",
   "metadata": {},
   "outputs": [
    {
     "data": {
      "text/html": [
       "<div>\n",
       "<style scoped>\n",
       "    .dataframe tbody tr th:only-of-type {\n",
       "        vertical-align: middle;\n",
       "    }\n",
       "\n",
       "    .dataframe tbody tr th {\n",
       "        vertical-align: top;\n",
       "    }\n",
       "\n",
       "    .dataframe thead th {\n",
       "        text-align: right;\n",
       "    }\n",
       "</style>\n",
       "<table border=\"1\" class=\"dataframe\">\n",
       "  <thead>\n",
       "    <tr style=\"text-align: right;\">\n",
       "      <th></th>\n",
       "      <th>ReadingScore</th>\n",
       "    </tr>\n",
       "    <tr>\n",
       "      <th>ParentEduc</th>\n",
       "      <th></th>\n",
       "    </tr>\n",
       "  </thead>\n",
       "  <tbody>\n",
       "    <tr>\n",
       "      <th>associate's degree</th>\n",
       "      <td>71.124324</td>\n",
       "    </tr>\n",
       "    <tr>\n",
       "      <th>bachelor's degree</th>\n",
       "      <td>73.062020</td>\n",
       "    </tr>\n",
       "    <tr>\n",
       "      <th>high school</th>\n",
       "      <td>67.213997</td>\n",
       "    </tr>\n",
       "    <tr>\n",
       "      <th>master's degree</th>\n",
       "      <td>75.832921</td>\n",
       "    </tr>\n",
       "    <tr>\n",
       "      <th>some college</th>\n",
       "      <td>69.179708</td>\n",
       "    </tr>\n",
       "    <tr>\n",
       "      <th>some high school</th>\n",
       "      <td>65.510785</td>\n",
       "    </tr>\n",
       "  </tbody>\n",
       "</table>\n",
       "</div>"
      ],
      "text/plain": [
       "                    ReadingScore\n",
       "ParentEduc                      \n",
       "associate's degree     71.124324\n",
       "bachelor's degree      73.062020\n",
       "high school            67.213997\n",
       "master's degree        75.832921\n",
       "some college           69.179708\n",
       "some high school       65.510785"
      ]
     },
     "execution_count": 57,
     "metadata": {},
     "output_type": "execute_result"
    }
   ],
   "source": [
    "filter =data.pivot_table(index = 'ParentEduc' ,values='ReadingScore' , aggfunc = 'mean')\n",
    "filter"
   ]
  },
  {
   "cell_type": "code",
   "execution_count": 14,
   "id": "f9c25d74",
   "metadata": {},
   "outputs": [
    {
     "data": {
      "text/plain": [
       "(array([0, 1, 2, 3, 4, 5]),\n",
       " [Text(0, 0, \"bachelor's degree\"),\n",
       "  Text(1, 0, 'some college'),\n",
       "  Text(2, 0, \"master's degree\"),\n",
       "  Text(3, 0, \"associate's degree\"),\n",
       "  Text(4, 0, 'high school'),\n",
       "  Text(5, 0, 'some high school')])"
      ]
     },
     "execution_count": 14,
     "metadata": {},
     "output_type": "execute_result"
    },
    {
     "data": {
      "image/png": "[encoded data removed]",
      "text/plain": [
       "<Figure size 432x288 with 1 Axes>"
      ]
     },
     "metadata": {
      "needs_background": "light"
     },
     "output_type": "display_data"
    }
   ],
   "source": [
    "sns.barplot(x = \"ParentEduc\" , y = \"ReadingScore\" , data = data)\n",
    "plt.title(\"Is Parent Qualification affect child's reading?\")\n",
    "plt.xticks(rotation = 35)"
   ]
  },
  {
   "cell_type": "code",
   "execution_count": 21,
   "id": "b04be94a",
   "metadata": {},
   "outputs": [
    {
     "data": {
      "text/html": [
       "<div>\n",
       "<style scoped>\n",
       "    .dataframe tbody tr th:only-of-type {\n",
       "        vertical-align: middle;\n",
       "    }\n",
       "\n",
       "    .dataframe tbody tr th {\n",
       "        vertical-align: top;\n",
       "    }\n",
       "\n",
       "    .dataframe thead th {\n",
       "        text-align: right;\n",
       "    }\n",
       "</style>\n",
       "<table border=\"1\" class=\"dataframe\">\n",
       "  <thead>\n",
       "    <tr style=\"text-align: right;\">\n",
       "      <th></th>\n",
       "      <th>MathScore</th>\n",
       "      <th>WritingScore</th>\n",
       "      <th>ReadingScore</th>\n",
       "    </tr>\n",
       "    <tr>\n",
       "      <th>ParentEduc</th>\n",
       "      <th></th>\n",
       "      <th></th>\n",
       "      <th></th>\n",
       "    </tr>\n",
       "  </thead>\n",
       "  <tbody>\n",
       "    <tr>\n",
       "      <th>associate's degree</th>\n",
       "      <td>68.365586</td>\n",
       "      <td>70.299099</td>\n",
       "      <td>71.124324</td>\n",
       "    </tr>\n",
       "    <tr>\n",
       "      <th>bachelor's degree</th>\n",
       "      <td>70.466627</td>\n",
       "      <td>73.331069</td>\n",
       "      <td>73.062020</td>\n",
       "    </tr>\n",
       "    <tr>\n",
       "      <th>high school</th>\n",
       "      <td>64.435731</td>\n",
       "      <td>65.421136</td>\n",
       "      <td>67.213997</td>\n",
       "    </tr>\n",
       "    <tr>\n",
       "      <th>master's degree</th>\n",
       "      <td>72.336134</td>\n",
       "      <td>76.356896</td>\n",
       "      <td>75.832921</td>\n",
       "    </tr>\n",
       "    <tr>\n",
       "      <th>some college</th>\n",
       "      <td>66.390472</td>\n",
       "      <td>68.501432</td>\n",
       "      <td>69.179708</td>\n",
       "    </tr>\n",
       "    <tr>\n",
       "      <th>some high school</th>\n",
       "      <td>62.584013</td>\n",
       "      <td>63.632409</td>\n",
       "      <td>65.510785</td>\n",
       "    </tr>\n",
       "  </tbody>\n",
       "</table>\n",
       "</div>"
      ],
      "text/plain": [
       "                    MathScore  WritingScore  ReadingScore\n",
       "ParentEduc                                               \n",
       "associate's degree  68.365586     70.299099     71.124324\n",
       "bachelor's degree   70.466627     73.331069     73.062020\n",
       "high school         64.435731     65.421136     67.213997\n",
       "master's degree     72.336134     76.356896     75.832921\n",
       "some college        66.390472     68.501432     69.179708\n",
       "some high school    62.584013     63.632409     65.510785"
      ]
     },
     "execution_count": 21,
     "metadata": {},
     "output_type": "execute_result"
    }
   ],
   "source": [
    "Parents_education = data.groupby([\"ParentEduc\"])[[\"MathScore\", \"WritingScore\", \"ReadingScore\"]].mean()\n",
    "Parents_education"
   ]
  },
  {
   "cell_type": "code",
   "execution_count": 23,
   "id": "c3fd82fd",
   "metadata": {},
   "outputs": [
    {
     "data": {
      "text/plain": [
       "<AxesSubplot:ylabel='ParentEduc'>"
      ]
     },
     "execution_count": 23,
     "metadata": {},
     "output_type": "execute_result"
    },
    {
     "data": {
      "image/png": "[encoded data removed]",
      "text/plain": [
       "<Figure size 432x288 with 2 Axes>"
      ]
     },
     "metadata": {
      "needs_background": "light"
     },
     "output_type": "display_data"
    }
   ],
   "source": [
    "sns.heatmap(data=Parents_education , annot = True)"
   ]
  },
  {
   "cell_type": "code",
   "execution_count": 52,
   "id": "35c4e9a1",
   "metadata": {},
   "outputs": [
    {
     "data": {
      "text/plain": [
       "(array([0, 1, 2, 3, 4, 5]),\n",
       " [Text(0, 0, \"bachelor's degree\"),\n",
       "  Text(1, 0, 'some college'),\n",
       "  Text(2, 0, \"master's degree\"),\n",
       "  Text(3, 0, \"associate's degree\"),\n",
       "  Text(4, 0, 'high school'),\n",
       "  Text(5, 0, 'some high school')])"
      ]
     },
     "execution_count": 52,
     "metadata": {},
     "output_type": "execute_result"
    },
    {
     "data": {
      "image/png": "[encoded data removed]",
      "text/plain": [
       "<Figure size 432x288 with 1 Axes>"
      ]
     },
     "metadata": {
      "needs_background": "light"
     },
     "output_type": "display_data"
    }
   ],
   "source": [
    "sns.countplot(x = data[\"ParentEduc\"])\n",
    "plt.title(\"Parents education background\")\n",
    "plt.xticks(rotation = 35)"
   ]
  },
  {
   "cell_type": "markdown",
   "id": "87be5f9c",
   "metadata": {},
   "source": [
    "## Students Ethnic group \n",
    "- Maximum students belongs to Group C \n",
    "- Students who are sscociate with group E get approximately 75 percent"
   ]
  },
  {
   "cell_type": "code",
   "execution_count": 37,
   "id": "10338340",
   "metadata": {},
   "outputs": [
    {
     "data": {
      "text/html": [
       "<div>\n",
       "<style scoped>\n",
       "    .dataframe tbody tr th:only-of-type {\n",
       "        vertical-align: middle;\n",
       "    }\n",
       "\n",
       "    .dataframe tbody tr th {\n",
       "        vertical-align: top;\n",
       "    }\n",
       "\n",
       "    .dataframe thead th {\n",
       "        text-align: right;\n",
       "    }\n",
       "</style>\n",
       "<table border=\"1\" class=\"dataframe\">\n",
       "  <thead>\n",
       "    <tr style=\"text-align: right;\">\n",
       "      <th></th>\n",
       "      <th>MathScore</th>\n",
       "      <th>WritingScore</th>\n",
       "      <th>ReadingScore</th>\n",
       "    </tr>\n",
       "    <tr>\n",
       "      <th>EthnicGroup</th>\n",
       "      <th></th>\n",
       "      <th></th>\n",
       "      <th></th>\n",
       "    </tr>\n",
       "  </thead>\n",
       "  <tbody>\n",
       "    <tr>\n",
       "      <th>group A</th>\n",
       "      <td>62.991888</td>\n",
       "      <td>65.251915</td>\n",
       "      <td>66.787742</td>\n",
       "    </tr>\n",
       "    <tr>\n",
       "      <th>group B</th>\n",
       "      <td>63.490216</td>\n",
       "      <td>65.895125</td>\n",
       "      <td>67.320460</td>\n",
       "    </tr>\n",
       "    <tr>\n",
       "      <th>group C</th>\n",
       "      <td>64.695723</td>\n",
       "      <td>66.999240</td>\n",
       "      <td>68.438233</td>\n",
       "    </tr>\n",
       "    <tr>\n",
       "      <th>group D</th>\n",
       "      <td>67.666400</td>\n",
       "      <td>70.890844</td>\n",
       "      <td>70.382247</td>\n",
       "    </tr>\n",
       "    <tr>\n",
       "      <th>group E</th>\n",
       "      <td>75.298936</td>\n",
       "      <td>72.677060</td>\n",
       "      <td>74.251423</td>\n",
       "    </tr>\n",
       "  </tbody>\n",
       "</table>\n",
       "</div>"
      ],
      "text/plain": [
       "             MathScore  WritingScore  ReadingScore\n",
       "EthnicGroup                                       \n",
       "group A      62.991888     65.251915     66.787742\n",
       "group B      63.490216     65.895125     67.320460\n",
       "group C      64.695723     66.999240     68.438233\n",
       "group D      67.666400     70.890844     70.382247\n",
       "group E      75.298936     72.677060     74.251423"
      ]
     },
     "execution_count": 37,
     "metadata": {},
     "output_type": "execute_result"
    }
   ],
   "source": [
    "avg_score = data.groupby([\"EthnicGroup\"])[[\"MathScore\", \"WritingScore\", \"ReadingScore\"]].mean()\n",
    "avg_score"
   ]
  },
  {
   "cell_type": "code",
   "execution_count": 73,
   "id": "b2e3f25a",
   "metadata": {},
   "outputs": [
    {
     "data": {
      "text/plain": [
       "Text(0.5, 1.0, 'Average score in different skills')"
      ]
     },
     "execution_count": 73,
     "metadata": {},
     "output_type": "execute_result"
    },
    {
     "data": {
      "image/png": "[encoded data removed]",
      "text/plain": [
       "<Figure size 432x288 with 1 Axes>"
      ]
     },
     "metadata": {
      "needs_background": "light"
     },
     "output_type": "display_data"
    }
   ],
   "source": [
    "avg_score.plot.bar()\n",
    "plt.title(\"Average score in different skills\")"
   ]
  },
  {
   "cell_type": "code",
   "execution_count": 18,
   "id": "9e5000bb",
   "metadata": {
    "scrolled": true
   },
   "outputs": [
    {
     "data": {
      "image/png": "[encoded data removed]",
      "text/plain": [
       "<Figure size 432x288 with 1 Axes>"
      ]
     },
     "metadata": {
      "needs_background": "light"
     },
     "output_type": "display_data"
    },
    {
     "data": {
      "text/plain": [
       "(array([0. , 0.2, 0.4, 0.6, 0.8, 1. ]),\n",
       " [Text(0, 0, ''),\n",
       "  Text(0, 0, ''),\n",
       "  Text(0, 0, ''),\n",
       "  Text(0, 0, ''),\n",
       "  Text(0, 0, ''),\n",
       "  Text(0, 0, '')])"
      ]
     },
     "execution_count": 18,
     "metadata": {},
     "output_type": "execute_result"
    },
    {
     "data": {
      "image/png": "[encoded data removed]",
      "text/plain": [
       "<Figure size 432x288 with 1 Axes>"
      ]
     },
     "metadata": {
      "needs_background": "light"
     },
     "output_type": "display_data"
    }
   ],
   "source": [
    "sns.countplot(x = data[\"EthnicGroup\"],order=['group C', 'group D', 'group B', 'group E', 'group A'])\n",
    "plt.show()\n",
    "plt.title(\"Ethnic group of students\")\n",
    "plt.xticks(rotation = 45)"
   ]
  },
  {
   "cell_type": "markdown",
   "id": "ef9631bb",
   "metadata": {},
   "source": [
    "## Gender Comparison\n",
    "- In this dataset Students are generally fairly distributed.\n",
    "- The perfomance of female students are comparatively much better than male srudents."
   ]
  },
  {
   "cell_type": "code",
   "execution_count": 59,
   "id": "7498f94f",
   "metadata": {},
   "outputs": [
    {
     "data": {
      "text/plain": [
       "Text(0.5, 1.0, 'Gender wise maximum number of students')"
      ]
     },
     "execution_count": 59,
     "metadata": {},
     "output_type": "execute_result"
    },
    {
     "data": {
      "image/png": "[encoded data removed]",
      "text/plain": [
       "<Figure size 432x288 with 1 Axes>"
      ]
     },
     "metadata": {
      "needs_background": "light"
     },
     "output_type": "display_data"
    }
   ],
   "source": [
    "data['Gender'].value_counts().plot.bar()\n",
    "plt.title('Gender wise maximum number of students')"
   ]
  },
  {
   "cell_type": "code",
   "execution_count": 72,
   "id": "4faad651",
   "metadata": {},
   "outputs": [
    {
     "data": {
      "text/plain": [
       "<AxesSubplot:xlabel='Gender'>"
      ]
     },
     "execution_count": 72,
     "metadata": {},
     "output_type": "execute_result"
    },
    {
     "data": {
      "image/png": "[encoded data removed]",
      "text/plain": [
       "<Figure size 432x288 with 1 Axes>"
      ]
     },
     "metadata": {
      "needs_background": "light"
     },
     "output_type": "display_data"
    }
   ],
   "source": [
    "gen_comparing_score.plot.bar()"
   ]
  },
  {
   "cell_type": "code",
   "execution_count": 58,
   "id": "60eccb09",
   "metadata": {},
   "outputs": [
    {
     "data": {
      "text/html": [
       "<div>\n",
       "<style scoped>\n",
       "    .dataframe tbody tr th:only-of-type {\n",
       "        vertical-align: middle;\n",
       "    }\n",
       "\n",
       "    .dataframe tbody tr th {\n",
       "        vertical-align: top;\n",
       "    }\n",
       "\n",
       "    .dataframe thead th {\n",
       "        text-align: right;\n",
       "    }\n",
       "</style>\n",
       "<table border=\"1\" class=\"dataframe\">\n",
       "  <thead>\n",
       "    <tr style=\"text-align: right;\">\n",
       "      <th></th>\n",
       "      <th>MathScore</th>\n",
       "      <th>WritingScore</th>\n",
       "      <th>ReadingScore</th>\n",
       "    </tr>\n",
       "    <tr>\n",
       "      <th>Gender</th>\n",
       "      <th></th>\n",
       "      <th></th>\n",
       "      <th></th>\n",
       "    </tr>\n",
       "  </thead>\n",
       "  <tbody>\n",
       "    <tr>\n",
       "      <th>female</th>\n",
       "      <td>64.262902</td>\n",
       "      <td>72.897692</td>\n",
       "      <td>73.093815</td>\n",
       "    </tr>\n",
       "    <tr>\n",
       "      <th>male</th>\n",
       "      <td>69.269633</td>\n",
       "      <td>63.978708</td>\n",
       "      <td>66.108957</td>\n",
       "    </tr>\n",
       "  </tbody>\n",
       "</table>\n",
       "</div>"
      ],
      "text/plain": [
       "        MathScore  WritingScore  ReadingScore\n",
       "Gender                                       \n",
       "female  64.262902     72.897692     73.093815\n",
       "male    69.269633     63.978708     66.108957"
      ]
     },
     "execution_count": 58,
     "metadata": {},
     "output_type": "execute_result"
    }
   ],
   "source": [
    "gen_comparing_score = data.groupby([\"Gender\"])[[\"MathScore\", \"WritingScore\", \"ReadingScore\"]].mean()\n",
    "gen_comparing_score"
   ]
  },
  {
   "cell_type": "markdown",
   "id": "d23a7fe7",
   "metadata": {},
   "source": [
    "##  Lunch Type\n",
    "- There are two types of lunch:\n",
    " - 1.Standard\n",
    " - 2.Free(Reduced)\n",
    "- 65 percent of the students have standard lunch.\n",
    "- Lunch type impact students performance mainly in Math score there is a diference of 11 among lunch type.\n",
    "- On the contrast, reading writing score and score has difference of 8 and 9 respectively.- "
   ]
  },
  {
   "cell_type": "code",
   "execution_count": 93,
   "id": "b0c7ae0c",
   "metadata": {},
   "outputs": [
    {
     "data": {
      "text/html": [
       "<div>\n",
       "<style scoped>\n",
       "    .dataframe tbody tr th:only-of-type {\n",
       "        vertical-align: middle;\n",
       "    }\n",
       "\n",
       "    .dataframe tbody tr th {\n",
       "        vertical-align: top;\n",
       "    }\n",
       "\n",
       "    .dataframe thead th {\n",
       "        text-align: right;\n",
       "    }\n",
       "</style>\n",
       "<table border=\"1\" class=\"dataframe\">\n",
       "  <thead>\n",
       "    <tr style=\"text-align: right;\">\n",
       "      <th></th>\n",
       "      <th>MathScore</th>\n",
       "      <th>WritingScore</th>\n",
       "      <th>ReadingScore</th>\n",
       "    </tr>\n",
       "    <tr>\n",
       "      <th>LunchType</th>\n",
       "      <th></th>\n",
       "      <th></th>\n",
       "      <th></th>\n",
       "    </tr>\n",
       "  </thead>\n",
       "  <tbody>\n",
       "    <tr>\n",
       "      <th>free/reduced</th>\n",
       "      <td>59.057843</td>\n",
       "      <td>62.694393</td>\n",
       "      <td>64.438990</td>\n",
       "    </tr>\n",
       "    <tr>\n",
       "      <th>standard</th>\n",
       "      <td>70.897865</td>\n",
       "      <td>71.582567</td>\n",
       "      <td>72.422105</td>\n",
       "    </tr>\n",
       "  </tbody>\n",
       "</table>\n",
       "</div>"
      ],
      "text/plain": [
       "              MathScore  WritingScore  ReadingScore\n",
       "LunchType                                          \n",
       "free/reduced  59.057843     62.694393     64.438990\n",
       "standard      70.897865     71.582567     72.422105"
      ]
     },
     "execution_count": 93,
     "metadata": {},
     "output_type": "execute_result"
    }
   ],
   "source": [
    "School_lunch_type = data.groupby([\"LunchType\"])[[\"MathScore\", \"WritingScore\", \"ReadingScore\"]].mean()\n",
    "School_lunch_type"
   ]
  },
  {
   "cell_type": "markdown",
   "id": "b4774618",
   "metadata": {},
   "source": [
    "data[\"LunchType\"].value_counts().plot.bar()\n",
    "plt.xticks(rotation = 45)"
   ]
  },
  {
   "cell_type": "markdown",
   "id": "a275ae84",
   "metadata": {},
   "source": [
    "## Test Prep Score\n",
    "- This fearure has great impact on students score as students have high score who give pre-test.\n",
    "- Only 40 percent of the student are interested to do test preparation course"
   ]
  },
  {
   "cell_type": "code",
   "execution_count": 65,
   "id": "daf29f9b",
   "metadata": {},
   "outputs": [
    {
     "data": {
      "text/plain": [
       "Text(0.5, 1.0, 'Counts of student who prepared test')"
      ]
     },
     "execution_count": 65,
     "metadata": {},
     "output_type": "execute_result"
    },
    {
     "data": {
      "image/png": "[encoded data removed]",
      "text/plain": [
       "<Figure size 432x288 with 1 Axes>"
      ]
     },
     "metadata": {
      "needs_background": "light"
     },
     "output_type": "display_data"
    }
   ],
   "source": [
    "data['TestPrep'].value_counts().plot.bar()\n",
    "plt.title('Counts of student who prepared test')"
   ]
  },
  {
   "cell_type": "code",
   "execution_count": 97,
   "id": "14d2788a",
   "metadata": {},
   "outputs": [
    {
     "data": {
      "text/html": [
       "<div>\n",
       "<style scoped>\n",
       "    .dataframe tbody tr th:only-of-type {\n",
       "        vertical-align: middle;\n",
       "    }\n",
       "\n",
       "    .dataframe tbody tr th {\n",
       "        vertical-align: top;\n",
       "    }\n",
       "\n",
       "    .dataframe thead th {\n",
       "        text-align: right;\n",
       "    }\n",
       "</style>\n",
       "<table border=\"1\" class=\"dataframe\">\n",
       "  <thead>\n",
       "    <tr style=\"text-align: right;\">\n",
       "      <th></th>\n",
       "      <th>MathScore</th>\n",
       "      <th>WritingScore</th>\n",
       "      <th>ReadingScore</th>\n",
       "    </tr>\n",
       "    <tr>\n",
       "      <th>TestPrep</th>\n",
       "      <th></th>\n",
       "      <th></th>\n",
       "      <th></th>\n",
       "    </tr>\n",
       "  </thead>\n",
       "  <tbody>\n",
       "    <tr>\n",
       "      <th>completed</th>\n",
       "      <td>69.761468</td>\n",
       "      <td>74.735269</td>\n",
       "      <td>73.966235</td>\n",
       "    </tr>\n",
       "    <tr>\n",
       "      <th>none</th>\n",
       "      <td>65.162398</td>\n",
       "      <td>65.166534</td>\n",
       "      <td>67.337752</td>\n",
       "    </tr>\n",
       "  </tbody>\n",
       "</table>\n",
       "</div>"
      ],
      "text/plain": [
       "           MathScore  WritingScore  ReadingScore\n",
       "TestPrep                                        \n",
       "completed  69.761468     74.735269     73.966235\n",
       "none       65.162398     65.166534     67.337752"
      ]
     },
     "execution_count": 97,
     "metadata": {},
     "output_type": "execute_result"
    }
   ],
   "source": [
    "test_prep_course = data.groupby([\"TestPrep\"])[[\"MathScore\", \"WritingScore\", \"ReadingScore\"]].mean()\n",
    "test_prep_course"
   ]
  },
  {
   "cell_type": "markdown",
   "id": "95fc1300",
   "metadata": {},
   "source": [
    "### Box plot for Score\n",
    "\n",
    "- There are too much outliers in this dataset.\n",
    "- Math Score lies between 58-78 marks.\n",
    "- Students get 60-80 marks in reading."
   ]
  },
  {
   "cell_type": "code",
   "execution_count": 9,
   "id": "80cef483",
   "metadata": {},
   "outputs": [
    {
     "name": "stderr",
     "output_type": "stream",
     "text": [
      "C:\\Users\\ADMIN\\anaconda3\\lib\\site-packages\\seaborn\\_decorators.py:36: FutureWarning: Pass the following variable as a keyword arg: x. From version 0.12, the only valid positional argument will be `data`, and passing other arguments without an explicit keyword will result in an error or misinterpretation.\n",
      "  warnings.warn(\n"
     ]
    },
    {
     "data": {
      "image/png": "[encoded data removed]",
      "text/plain": [
       "<Figure size 432x288 with 1 Axes>"
      ]
     },
     "metadata": {
      "needs_background": "light"
     },
     "output_type": "display_data"
    }
   ],
   "source": [
    "sns.boxplot(data[\"MathScore\"])\n",
    "plt.title(\"Box plot for Math Test\")\n",
    "plt.show()"
   ]
  },
  {
   "cell_type": "code",
   "execution_count": 10,
   "id": "5914fd80",
   "metadata": {},
   "outputs": [
    {
     "name": "stderr",
     "output_type": "stream",
     "text": [
      "C:\\Users\\ADMIN\\anaconda3\\lib\\site-packages\\seaborn\\_decorators.py:36: FutureWarning: Pass the following variable as a keyword arg: x. From version 0.12, the only valid positional argument will be `data`, and passing other arguments without an explicit keyword will result in an error or misinterpretation.\n",
      "  warnings.warn(\n"
     ]
    },
    {
     "data": {
      "image/png": "[encoded data removed]",
      "text/plain": [
       "<Figure size 432x288 with 1 Axes>"
      ]
     },
     "metadata": {
      "needs_background": "light"
     },
     "output_type": "display_data"
    }
   ],
   "source": [
    "sns.boxplot(data[\"ReadingScore\"])\n",
    "plt.title(\"Box plot for Reading Test\")\n",
    "plt.show()\n"
   ]
  },
  {
   "cell_type": "markdown",
   "id": "3ec348f0",
   "metadata": {},
   "source": [
    "## Study hours\n",
    "- This feature demonstrate theat more study time have positive impact on test score"
   ]
  },
  {
   "cell_type": "code",
   "execution_count": 45,
   "id": "18fb2d21",
   "metadata": {},
   "outputs": [
    {
     "data": {
      "text/html": [
       "<div>\n",
       "<style scoped>\n",
       "    .dataframe tbody tr th:only-of-type {\n",
       "        vertical-align: middle;\n",
       "    }\n",
       "\n",
       "    .dataframe tbody tr th {\n",
       "        vertical-align: top;\n",
       "    }\n",
       "\n",
       "    .dataframe thead th {\n",
       "        text-align: right;\n",
       "    }\n",
       "</style>\n",
       "<table border=\"1\" class=\"dataframe\">\n",
       "  <thead>\n",
       "    <tr style=\"text-align: right;\">\n",
       "      <th></th>\n",
       "      <th>MathScore</th>\n",
       "      <th>WritingScore</th>\n",
       "      <th>ReadingScore</th>\n",
       "    </tr>\n",
       "    <tr>\n",
       "      <th>WklyStudyHours</th>\n",
       "      <th></th>\n",
       "      <th></th>\n",
       "      <th></th>\n",
       "    </tr>\n",
       "  </thead>\n",
       "  <tbody>\n",
       "    <tr>\n",
       "      <th>05-10</th>\n",
       "      <td>66.870491</td>\n",
       "      <td>68.636280</td>\n",
       "      <td>69.660532</td>\n",
       "    </tr>\n",
       "    <tr>\n",
       "      <th>&lt; 5</th>\n",
       "      <td>64.580359</td>\n",
       "      <td>67.090192</td>\n",
       "      <td>68.176135</td>\n",
       "    </tr>\n",
       "    <tr>\n",
       "      <th>&gt; 10</th>\n",
       "      <td>68.696655</td>\n",
       "      <td>69.777778</td>\n",
       "      <td>70.365436</td>\n",
       "    </tr>\n",
       "  </tbody>\n",
       "</table>\n",
       "</div>"
      ],
      "text/plain": [
       "                MathScore  WritingScore  ReadingScore\n",
       "WklyStudyHours                                       \n",
       "05-10           66.870491     68.636280     69.660532\n",
       "< 5             64.580359     67.090192     68.176135\n",
       "> 10            68.696655     69.777778     70.365436"
      ]
     },
     "execution_count": 45,
     "metadata": {},
     "output_type": "execute_result"
    }
   ],
   "source": [
    "study_hours = data.groupby([\"WklyStudyHours\"])[[\"MathScore\", \"WritingScore\", \"ReadingScore\"]].mean()\n",
    "study_hours"
   ]
  },
  {
   "cell_type": "markdown",
   "id": "1907ed6b",
   "metadata": {},
   "source": [
    "## is parents marital status affect kids study?\n",
    "-There is no impact of parent marital status their kids performance.\n",
    "\n"
   ]
  },
  {
   "cell_type": "code",
   "execution_count": 48,
   "id": "365a3fbd",
   "metadata": {},
   "outputs": [
    {
     "data": {
      "text/html": [
       "<div>\n",
       "<style scoped>\n",
       "    .dataframe tbody tr th:only-of-type {\n",
       "        vertical-align: middle;\n",
       "    }\n",
       "\n",
       "    .dataframe tbody tr th {\n",
       "        vertical-align: top;\n",
       "    }\n",
       "\n",
       "    .dataframe thead th {\n",
       "        text-align: right;\n",
       "    }\n",
       "</style>\n",
       "<table border=\"1\" class=\"dataframe\">\n",
       "  <thead>\n",
       "    <tr style=\"text-align: right;\">\n",
       "      <th></th>\n",
       "      <th></th>\n",
       "      <th>MathScore</th>\n",
       "      <th>WritingScore</th>\n",
       "      <th>ReadingScore</th>\n",
       "    </tr>\n",
       "    <tr>\n",
       "      <th>ParentMaritalStatus</th>\n",
       "      <th>WklyStudyHours</th>\n",
       "      <th></th>\n",
       "      <th></th>\n",
       "      <th></th>\n",
       "    </tr>\n",
       "  </thead>\n",
       "  <tbody>\n",
       "    <tr>\n",
       "      <th rowspan=\"3\" valign=\"top\">divorced</th>\n",
       "      <th>05-10</th>\n",
       "      <td>67.109658</td>\n",
       "      <td>68.988072</td>\n",
       "      <td>69.969988</td>\n",
       "    </tr>\n",
       "    <tr>\n",
       "      <th>&lt; 5</th>\n",
       "      <td>64.254887</td>\n",
       "      <td>67.145865</td>\n",
       "      <td>68.133083</td>\n",
       "    </tr>\n",
       "    <tr>\n",
       "      <th>&gt; 10</th>\n",
       "      <td>69.214976</td>\n",
       "      <td>70.768116</td>\n",
       "      <td>71.123188</td>\n",
       "    </tr>\n",
       "    <tr>\n",
       "      <th rowspan=\"3\" valign=\"top\">married</th>\n",
       "      <th>05-10</th>\n",
       "      <td>66.901192</td>\n",
       "      <td>68.603642</td>\n",
       "      <td>69.646695</td>\n",
       "    </tr>\n",
       "    <tr>\n",
       "      <th>&lt; 5</th>\n",
       "      <td>64.719657</td>\n",
       "      <td>67.109059</td>\n",
       "      <td>68.177441</td>\n",
       "    </tr>\n",
       "    <tr>\n",
       "      <th>&gt; 10</th>\n",
       "      <td>68.894700</td>\n",
       "      <td>69.826810</td>\n",
       "      <td>70.435746</td>\n",
       "    </tr>\n",
       "    <tr>\n",
       "      <th rowspan=\"3\" valign=\"top\">single</th>\n",
       "      <th>05-10</th>\n",
       "      <td>66.626885</td>\n",
       "      <td>68.541413</td>\n",
       "      <td>69.525271</td>\n",
       "    </tr>\n",
       "    <tr>\n",
       "      <th>&lt; 5</th>\n",
       "      <td>64.176067</td>\n",
       "      <td>66.839220</td>\n",
       "      <td>67.964681</td>\n",
       "    </tr>\n",
       "    <tr>\n",
       "      <th>&gt; 10</th>\n",
       "      <td>67.851759</td>\n",
       "      <td>69.149079</td>\n",
       "      <td>69.915410</td>\n",
       "    </tr>\n",
       "    <tr>\n",
       "      <th rowspan=\"3\" valign=\"top\">widowed</th>\n",
       "      <th>05-10</th>\n",
       "      <td>67.263323</td>\n",
       "      <td>68.018809</td>\n",
       "      <td>69.103448</td>\n",
       "    </tr>\n",
       "    <tr>\n",
       "      <th>&lt; 5</th>\n",
       "      <td>65.547170</td>\n",
       "      <td>68.339623</td>\n",
       "      <td>70.031447</td>\n",
       "    </tr>\n",
       "    <tr>\n",
       "      <th>&gt; 10</th>\n",
       "      <td>71.117021</td>\n",
       "      <td>70.659574</td>\n",
       "      <td>70.563830</td>\n",
       "    </tr>\n",
       "  </tbody>\n",
       "</table>\n",
       "</div>"
      ],
      "text/plain": [
       "                                    MathScore  WritingScore  ReadingScore\n",
       "ParentMaritalStatus WklyStudyHours                                       \n",
       "divorced            05-10           67.109658     68.988072     69.969988\n",
       "                    < 5             64.254887     67.145865     68.133083\n",
       "                    > 10            69.214976     70.768116     71.123188\n",
       "married             05-10           66.901192     68.603642     69.646695\n",
       "                    < 5             64.719657     67.109059     68.177441\n",
       "                    > 10            68.894700     69.826810     70.435746\n",
       "single              05-10           66.626885     68.541413     69.525271\n",
       "                    < 5             64.176067     66.839220     67.964681\n",
       "                    > 10            67.851759     69.149079     69.915410\n",
       "widowed             05-10           67.263323     68.018809     69.103448\n",
       "                    < 5             65.547170     68.339623     70.031447\n",
       "                    > 10            71.117021     70.659574     70.563830"
      ]
     },
     "execution_count": 48,
     "metadata": {},
     "output_type": "execute_result"
    }
   ],
   "source": [
    "impact = data.groupby([\"ParentMaritalStatus\", \"WklyStudyHours\"])[[\"MathScore\", \"WritingScore\", \"ReadingScore\"]].mean()\n",
    "impact"
   ]
  },
  {
   "cell_type": "code",
   "execution_count": 42,
   "id": "1a2a1dcb",
   "metadata": {},
   "outputs": [
    {
     "data": {
      "text/html": [
       "<div>\n",
       "<style scoped>\n",
       "    .dataframe tbody tr th:only-of-type {\n",
       "        vertical-align: middle;\n",
       "    }\n",
       "\n",
       "    .dataframe tbody tr th {\n",
       "        vertical-align: top;\n",
       "    }\n",
       "\n",
       "    .dataframe thead th {\n",
       "        text-align: right;\n",
       "    }\n",
       "</style>\n",
       "<table border=\"1\" class=\"dataframe\">\n",
       "  <thead>\n",
       "    <tr style=\"text-align: right;\">\n",
       "      <th></th>\n",
       "      <th>MathScore</th>\n",
       "      <th>WritingScore</th>\n",
       "      <th>ReadingScore</th>\n",
       "    </tr>\n",
       "    <tr>\n",
       "      <th>ParentMaritalStatus</th>\n",
       "      <th></th>\n",
       "      <th></th>\n",
       "      <th></th>\n",
       "    </tr>\n",
       "  </thead>\n",
       "  <tbody>\n",
       "    <tr>\n",
       "      <th>divorced</th>\n",
       "      <td>66.691197</td>\n",
       "      <td>68.799146</td>\n",
       "      <td>69.655011</td>\n",
       "    </tr>\n",
       "    <tr>\n",
       "      <th>married</th>\n",
       "      <td>66.657326</td>\n",
       "      <td>68.420981</td>\n",
       "      <td>69.389575</td>\n",
       "    </tr>\n",
       "    <tr>\n",
       "      <th>single</th>\n",
       "      <td>66.165704</td>\n",
       "      <td>68.174440</td>\n",
       "      <td>69.157250</td>\n",
       "    </tr>\n",
       "    <tr>\n",
       "      <th>widowed</th>\n",
       "      <td>67.368866</td>\n",
       "      <td>68.563452</td>\n",
       "      <td>69.651438</td>\n",
       "    </tr>\n",
       "  </tbody>\n",
       "</table>\n",
       "</div>"
      ],
      "text/plain": [
       "                     MathScore  WritingScore  ReadingScore\n",
       "ParentMaritalStatus                                       \n",
       "divorced             66.691197     68.799146     69.655011\n",
       "married              66.657326     68.420981     69.389575\n",
       "single               66.165704     68.174440     69.157250\n",
       "widowed              67.368866     68.563452     69.651438"
      ]
     },
     "execution_count": 42,
     "metadata": {},
     "output_type": "execute_result"
    }
   ],
   "source": [
    "mart_status = data.groupby([\"ParentMaritalStatus\"])[[\"MathScore\", \"WritingScore\", \"ReadingScore\"]].mean()\n",
    "mart_status"
   ]
  },
  {
   "cell_type": "markdown",
   "id": "37745892",
   "metadata": {},
   "source": [
    "### Distribution of Transport"
   ]
  },
  {
   "cell_type": "code",
   "execution_count": 68,
   "id": "68694519",
   "metadata": {},
   "outputs": [
    {
     "data": {
      "text/plain": [
       "array(['school_bus', nan, 'private'], dtype=object)"
      ]
     },
     "execution_count": 68,
     "metadata": {},
     "output_type": "execute_result"
    }
   ],
   "source": [
    "data[\"TransportMeans\"].unique()\n"
   ]
  },
  {
   "cell_type": "code",
   "execution_count": 69,
   "id": "c23db1b2",
   "metadata": {},
   "outputs": [
    {
     "data": {
      "text/plain": [
       "0        school_bus\n",
       "2        school_bus\n",
       "4        school_bus\n",
       "5        school_bus\n",
       "6           private\n",
       "            ...    \n",
       "30636    school_bus\n",
       "30637       private\n",
       "30638       private\n",
       "30639    school_bus\n",
       "30640    school_bus\n",
       "Name: TransportMeans, Length: 27507, dtype: object"
      ]
     },
     "execution_count": 69,
     "metadata": {},
     "output_type": "execute_result"
    }
   ],
   "source": [
    "data[\"TransportMeans\"].dropna()"
   ]
  },
  {
   "cell_type": "code",
   "execution_count": 89,
   "id": "f2d5a6a0",
   "metadata": {},
   "outputs": [
    {
     "data": {
      "image/png": "[encoded data removed]",
      "text/plain": [
       "<Figure size 432x288 with 1 Axes>"
      ]
     },
     "metadata": {},
     "output_type": "display_data"
    }
   ],
   "source": [
    "school_bus = data.loc[data[\"TransportMeans\"] == \"school_bus\"].count()\n",
    "private = data.loc[data[\"TransportMeans\"] == \"private\"].count()\n",
    "labels= [\"school_bus\", \"private\"]\n",
    "cat = [school_bus[\"TransportMeans\"], private[\"TransportMeans\"]]\n",
    "plt.pie(cat , labels = labels , autopct= \"%1.2f%%\" )\n",
    "plt.title(\"Distribution of Transport\")\n",
    "plt.show()\n"
   ]
  },
  {
   "cell_type": "markdown",
   "id": "16b94488",
   "metadata": {},
   "source": [
    "### Distribution of Sport Activity"
   ]
  },
  {
   "cell_type": "code",
   "execution_count": 83,
   "id": "f56d8a56",
   "metadata": {},
   "outputs": [
    {
     "data": {
      "text/plain": [
       "array(['regularly', 'sometimes', 'never', nan], dtype=object)"
      ]
     },
     "execution_count": 83,
     "metadata": {},
     "output_type": "execute_result"
    }
   ],
   "source": [
    "data[\"PracticeSport\"].unique()"
   ]
  },
  {
   "cell_type": "code",
   "execution_count": 85,
   "id": "6f877615",
   "metadata": {},
   "outputs": [],
   "source": [
    "data[\"PracticeSport\"]=data[\"PracticeSport\"].dropna()"
   ]
  },
  {
   "cell_type": "code",
   "execution_count": 88,
   "id": "dadf0f32",
   "metadata": {},
   "outputs": [
    {
     "data": {
      "image/png": "[encoded data removed]",
      "text/plain": [
       "<Figure size 432x288 with 1 Axes>"
      ]
     },
     "metadata": {},
     "output_type": "display_data"
    }
   ],
   "source": [
    "regularly = data.loc[data[\"PracticeSport\"] == \"regularly\"].count()\n",
    "sometimes = data.loc[data[\"PracticeSport\"] == \"sometimes\"].count()\n",
    "never = data.loc[data[\"PracticeSport\"] == \"never\"].count()\n",
    "labels= ['regularly', 'sometimes', 'never']\n",
    "cat = [regularly[\"PracticeSport\"], sometimes[\"PracticeSport\"] , never[\"PracticeSport\"]]\n",
    "plt.pie(cat , labels = labels , autopct= \"%1.2f%%\" )\n",
    "plt.title(\"Distribution of Sport Activity\")\n",
    "plt.show()"
   ]
  },
  {
   "cell_type": "markdown",
   "id": "e6e0fa9b",
   "metadata": {},
   "source": [
    "#                     THANK YOU"
   ]
  },
  {
   "cell_type": "code",
   "execution_count": null,
   "id": "de174dc9",
   "metadata": {},
   "outputs": [],
   "source": []
  }
 ],
 "metadata": {
  "kernelspec": {
   "display_name": "Python 3",
   "language": "python",
   "name": "python3"
  },
  "language_info": {
   "codemirror_mode": {
    "name": "ipython",
    "version": 3
   },
   "file_extension": ".py",
   "mimetype": "text/x-python",
   "name": "python",
   "nbconvert_exporter": "python",
   "pygments_lexer": "ipython3",
   "version": "3.8.8"
  }
 },
 "nbformat": 4,
 "nbformat_minor": 5
}
